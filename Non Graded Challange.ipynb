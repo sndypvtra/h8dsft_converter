{
 "cells": [
  {
   "cell_type": "markdown",
   "id": "00c3420c",
   "metadata": {},
   "source": [
    "# NGC W1 P1\n",
    " - Loop dan print semua angka genap yang ada pada list numbers dengan urutan yang sama\n",
    " - Print 'Done' setelah Looping Berakhir"
   ]
  },
  {
   "cell_type": "code",
   "execution_count": 13,
   "id": "e302eee2",
   "metadata": {
    "scrolled": true
   },
   "outputs": [
    {
     "name": "stdout",
     "output_type": "stream",
     "text": [
      "402\n",
      "984\n",
      "360\n",
      "408\n",
      "980\n",
      "544\n",
      "390\n",
      "984\n",
      "592\n",
      "236\n",
      "942\n",
      "386\n",
      "462\n",
      "418\n",
      "344\n",
      "236\n",
      "566\n",
      "978\n",
      "328\n",
      "162\n",
      "758\n",
      "918\n"
     ]
    }
   ],
   "source": [
    "import pandas as pd\n",
    "numbers = [ 951, 402, 984, 651, 360, 69, 408, 319, 601, 485, 980, 507, 725, 547, 544, 615, 83, 165, 141, 501, 263, 617, 865, 575, 219, 390, 984, 592, 236, 105, 942, 941, 386, 462, 47, 418, 907, 344, 236, 375, 823, 566, 597, 978, 328, 615, 953, 345, 399, 162, 758, 219, 918, 237, 412, 566, 826, 248, 866, 950, 626, 949 ]\n",
    "\n",
    "for i in numbers:\n",
    "    if i == 918:\n",
    "        print(i)\n",
    "        break;\n",
    "    elif i % 2 == 0:\n",
    "        print(i)"
   ]
  },
  {
   "cell_type": "markdown",
   "id": "76fdef9b",
   "metadata": {},
   "source": [
    "# NGC W1 P2\n",
    " - Buatlah fungsi yang mengkonversi dari Kelvin ke Celsius dan dari Celsius ke Kelvin.\n",
    " - Buatlah  fungsi yang dapat mengkonversi suhu ke farenheit.\n",
    " - Buatlah  fungsi yang dapat mengkonversi suhu dari farenheit."
   ]
  },
  {
   "cell_type": "code",
   "execution_count": 2,
   "id": "f29fff3b",
   "metadata": {},
   "outputs": [
    {
     "name": "stdout",
     "output_type": "stream",
     "text": [
      "Temperature in Kelvin ( K ) =  306.15\n",
      "Temperature in Celsius ( C ) =  126.85000000000002\n",
      "Temperature in Farenheit ( F ) =  3632.0\n",
      "Temperature in Kelvin ( K ) = 276.278\n"
     ]
    }
   ],
   "source": [
    "# 1). Buatlah fungsi yang mengkonversi dari Kelvin ke Celsius dan dari Celsius ke Kelvin\n",
    "## Celsius to Kelvin and \n",
    "def Celsius_to_Kelvin(C):\n",
    "    return (C + 273.15)\n",
    " \n",
    "\n",
    "### temperature in Celsius\n",
    "C = 33\n",
    " \n",
    "print(\"Temperature in Kelvin ( K ) = \",\n",
    "                    Celsius_to_Kelvin(C))\n",
    "\n",
    "## Kelvin to Celsius\n",
    "def Kelvin_to_Celsius(C):\n",
    "    return (C - 273.15)\n",
    " \n",
    "\n",
    "### temperature in Kelvin\n",
    "K = 400\n",
    " \n",
    "print(\"Temperature in Celsius ( C ) = \",\n",
    "                    Kelvin_to_Celsius(K))\n",
    "\n",
    "\n",
    "\n",
    "\n",
    "# 2). Buatlah  fungsi yang dapat mengkonversi suhu ke farenheit\n",
    "## celsius\n",
    "\n",
    "def Celsius_to_Farenheit(C):\n",
    "    return (C * 1.8) + 32\n",
    " \n",
    "\n",
    "### temperature in Celsius\n",
    "C = 2000\n",
    " \n",
    "print(\"Temperature in Farenheit ( F ) = \",\n",
    "                    Celsius_to_Farenheit(C))\n",
    "\n",
    "\n",
    "\n",
    "# 3). Buatlah  fungsi yang dapat mengkonversi suhu dari farenheit\n",
    "def Fahrenheit_to_Kelvin(F):\n",
    "    return 273.5 + ((F - 32.0) * (5.0/9.0))\n",
    " \n",
    "F = 37\n",
    "print(\"Temperature in Kelvin ( K ) = {:.3f}\"\n",
    "            .format(Fahrenheit_to_Kelvin( F )))\n",
    "\n"
   ]
  }
 ],
 "metadata": {
  "kernelspec": {
   "display_name": "projectx",
   "language": "python",
   "name": "projectx"
  },
  "language_info": {
   "codemirror_mode": {
    "name": "ipython",
    "version": 3
   },
   "file_extension": ".py",
   "mimetype": "text/x-python",
   "name": "python",
   "nbconvert_exporter": "python",
   "pygments_lexer": "ipython3",
   "version": "3.9.4"
  }
 },
 "nbformat": 4,
 "nbformat_minor": 5
}
